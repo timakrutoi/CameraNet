{
 "cells": [
  {
   "cell_type": "code",
   "execution_count": null,
   "id": "8530f7d7-9d8e-46e7-9e07-b091aff4b07e",
   "metadata": {
    "tags": []
   },
   "outputs": [],
   "source": [
    "import torch\n",
    "import torch.optim as optim\n",
    "import numpy as np\n",
    "\n",
    "from tqdm import tqdm\n",
    "from os import listdir, sep\n",
    "from kornia.color import rgb_to_xyz, xyz_to_rgb\n",
    "\n",
    "from network import *\n",
    "from unet import UNet\n",
    "from dataset import get_data\n",
    "from loss import *"
   ]
  },
  {
   "cell_type": "code",
   "execution_count": null,
   "id": "76df0c5e-9dc4-4b0c-9b45-a53262ba1808",
   "metadata": {
    "tags": []
   },
   "outputs": [],
   "source": [
    "device = torch.device('cuda' if torch.cuda.is_available() else 'cpu')\n",
    "print('Using device', device)\n",
    "try:\n",
    "    torch.multiprocessing.set_start_method('spawn')\n",
    "except RuntimeError:\n",
    "    pass\n",
    "\n",
    "data_path = '/home/tima/projects/isp/dataset/S7-ISP-Dataset'\n",
    "train, test = get_data(data_path, num_workers=4, batch_size=2, crop_size=512)\n",
    "\n",
    "print(f'train batch number {len(train)}')\n",
    "print(f'test  batch number {len(test)}')\n",
    "\n",
    "# train = BackgroundGenerator(train)\n",
    "# test = BackgroundGenerator(test)"
   ]
  },
  {
   "cell_type": "code",
   "execution_count": null,
   "id": "e0081a74-948e-4f9a-978d-ba63c57607f2",
   "metadata": {},
   "outputs": [],
   "source": [
    "start_epoch = 0\n",
    "e = 501\n",
    "test_every_n = 10\n",
    "lr = 5e-5\n",
    "alpha = 0.5\n",
    "\n",
    "make_checkpoints = True\n",
    "checkpoint_path = '/home/tima/projects/isp/CameraNet/CP'"
   ]
  },
  {
   "cell_type": "code",
   "execution_count": null,
   "id": "c71925cf-12ca-4f86-9445-2909d03423eb",
   "metadata": {},
   "outputs": [],
   "source": [
    "def get_cp_name(epoch, checkpoint_path):\n",
    "    dirs = listdir(checkpoint_path)\n",
    "    cp = [i for i in dirs if f'_e{epoch}_' in i]\n",
    "    return sep.join([checkpoint_path, cp[0]])\n",
    "\n",
    "\n",
    "model = CameraNet().enhance\n",
    "model_name = 'enhance'\n",
    "# model = UNet(3, 3)\n",
    "# print(model)\n",
    "model = torch.nn.DataParallel(model)\n",
    "model = model.to(device)\n",
    "# model.to('cuda')\n",
    "\n",
    "if start_epoch > 0:\n",
    "    cp = get_cp_name(start_epoch-1, checkpoint_path)\n",
    "    params = cp.split(sep)[-1].split('_e')[0][5:].split('-')\n",
    "    cp = torch.load(cp)\n",
    "    o = cp['model_state_dict']\n",
    "    # state_dict = {}\n",
    "    # for i in o.keys():\n",
    "    #     state_dict[i.replace('module.', '')] = o[i]\n",
    "    # model.load_state_dict(state_dict)\n",
    "    model.load_state_dict(o)"
   ]
  },
  {
   "cell_type": "code",
   "execution_count": null,
   "id": "0047b5d2-e5b0-492f-a978-d7564a726f73",
   "metadata": {},
   "outputs": [],
   "source": [
    "print('Total number of parameters:')\n",
    "n_params = torch.sum(torch.tensor([p.numel() for p in model.parameters()], dtype=torch.int)).item()\n",
    "print(f'{(n_params / 1e6):.02f}M')\n",
    "# print(f'{device=}')\n",
    "crit_res = RestoreNetLoss(device=device)\n",
    "crit_enh = EnhanceNetLoss()\n",
    "# crit_res = deepISPloss()\n",
    "\n",
    "optimizer = optim.Adam(CameraNet.parameters(model), lr, weight_decay=1e-5)"
   ]
  },
  {
   "cell_type": "code",
   "execution_count": null,
   "id": "a119a359-aa17-4ac0-b391-c48a1bab0776",
   "metadata": {},
   "outputs": [],
   "source": [
    "print('Starting trainig...')\n",
    "\n",
    "for epoch in  range(start_epoch, e):\n",
    "    train_iter = tqdm(train, ncols=150, desc='Epoch: {}, training'.format(epoch))\n",
    "    train_loss = []\n",
    "    for idx, (x, mid, target) in enumerate(train_iter):\n",
    "        x = x.float().to(device)\n",
    "        mid = mid.float().to(device)\n",
    "        target = target.float().to(device)\n",
    "        m = model(mid)\n",
    "#         l1 = crit_res(m, rgb_to_xyz(mid))\n",
    "#         l1 = crit_res(m, mid)\n",
    "        l1 = crit_res(m, target)\n",
    "\n",
    "        loss = l1\n",
    "        train_loss.append(loss)\n",
    "\n",
    "        optimizer.zero_grad()\n",
    "        loss.backward()\n",
    "        optimizer.step()\n",
    "        train_iter.set_postfix(str=f'loss: {torch.mean(torch.tensor(train_loss)).item():.03f}')\n",
    "    train_iter.close()\n",
    "    torch.cuda.empty_cache()\n",
    "\n",
    "    # skipping testing and saving checkpoints for some epochs\n",
    "    if epoch % test_every_n != 0:\n",
    "        continue\n",
    "\n",
    "    test_loss = []\n",
    "    test_iter = tqdm(test, ncols=150, desc='Epoch: {}, testing '.format(epoch))\n",
    "    with torch.no_grad():\n",
    "        for idx, (x, mid, target) in enumerate(test_iter):\n",
    "            x = x.float().to(device)\n",
    "            mid = mid.float().to(device)\n",
    "            target = target.float().to(device)\n",
    "            m = model(mid)\n",
    "            l1 = crit_res(m, target)\n",
    "\n",
    "            loss = l1\n",
    "\n",
    "            test_loss.append(loss.item())\n",
    "            test_iter.set_postfix(str=f'loss: {torch.mean(torch.tensor(test_loss)).item():.03f}')\n",
    "    test_iter.close()\n",
    "\n",
    "    if make_checkpoints:\n",
    "        torch.save({\n",
    "            'epoch': epoch,\n",
    "            'model_state_dict': model.state_dict(),\n",
    "            'optimizer_state_dict': optimizer.state_dict(),\n",
    "            'loss': np.mean(test_loss),\n",
    "        }, checkpoint_path + '/{}t_e{}_loss{}'.format(model_name, epoch, round(np.mean(test_loss), 3)))\n",
    "\n",
    "print('Training done!')"
   ]
  },
  {
   "cell_type": "code",
   "execution_count": null,
   "id": "a3825953-f82a-44bc-9a11-c95d0af498d6",
   "metadata": {},
   "outputs": [],
   "source": []
  }
 ],
 "metadata": {
  "kernelspec": {
   "display_name": "Python 3 (ipykernel)",
   "language": "python",
   "name": "python3"
  },
  "language_info": {
   "codemirror_mode": {
    "name": "ipython",
    "version": 3
   },
   "file_extension": ".py",
   "mimetype": "text/x-python",
   "name": "python",
   "nbconvert_exporter": "python",
   "pygments_lexer": "ipython3",
   "version": "3.9.2"
  }
 },
 "nbformat": 4,
 "nbformat_minor": 5
}
